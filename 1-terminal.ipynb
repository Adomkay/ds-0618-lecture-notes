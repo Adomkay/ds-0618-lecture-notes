{
 "cells": [
  {
   "cell_type": "markdown",
   "metadata": {},
   "source": [
    "### Commands\n",
    "\n",
    "1. ls\n",
    "\n",
    "lists the relevant directory\n",
    "\n",
    "2. cd - change directory\n",
    "\n",
    "3. pwd - print working directory \n",
    "\n",
    "4. open \n",
    "\n",
    "to show me my finder \n",
    "\n",
    "\n",
    "### Arguments\n",
    "\n",
    ". - this is the current working directory \n",
    "\n",
    ".. the folder that contains the current working directory"
   ]
  },
  {
   "cell_type": "code",
   "execution_count": null,
   "metadata": {},
   "outputs": [],
   "source": []
  }
 ],
 "metadata": {
  "kernelspec": {
   "display_name": "Python 3",
   "language": "python",
   "name": "python3"
  },
  "language_info": {
   "codemirror_mode": {
    "name": "ipython",
    "version": 3
   },
   "file_extension": ".py",
   "mimetype": "text/x-python",
   "name": "python",
   "nbconvert_exporter": "python",
   "pygments_lexer": "ipython3",
   "version": "3.5.5"
  }
 },
 "nbformat": 4,
 "nbformat_minor": 2
}
