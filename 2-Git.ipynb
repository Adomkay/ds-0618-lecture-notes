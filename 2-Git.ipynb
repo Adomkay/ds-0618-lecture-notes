{
 "cells": [
  {
   "cell_type": "markdown",
   "metadata": {},
   "source": [
    "### Git"
   ]
  },
  {
   "cell_type": "markdown",
   "metadata": {},
   "source": [
    "Reading Methods\n",
    "\n",
    "* git init\n",
    "* git status \n",
    " - shows me the files that have not yet been committed, but have been changed, added, or deleted\n",
    "\n",
    "* git log -3\n",
    "   See history \n",
    "* git show sha\n",
    "See the changes made by a specific commit "
   ]
  },
  {
   "cell_type": "markdown",
   "metadata": {},
   "source": [
    "Writing Methods \n",
    "\n",
    "* git add filenames, .\n",
    "* git commit -m \"read data from csv\""
   ]
  },
  {
   "cell_type": "markdown",
   "metadata": {},
   "source": [
    "### Github"
   ]
  },
  {
   "cell_type": "code",
   "execution_count": null,
   "metadata": {},
   "outputs": [],
   "source": [
    "https://github.com/learn-co-students/rolling-stones-lab-nyc-career-ds-062518"
   ]
  }
 ],
 "metadata": {
  "kernelspec": {
   "display_name": "Python 3",
   "language": "python",
   "name": "python3"
  },
  "language_info": {
   "codemirror_mode": {
    "name": "ipython",
    "version": 3
   },
   "file_extension": ".py",
   "mimetype": "text/x-python",
   "name": "python",
   "nbconvert_exporter": "python",
   "pygments_lexer": "ipython3",
   "version": "3.5.5"
  }
 },
 "nbformat": 4,
 "nbformat_minor": 2
}
