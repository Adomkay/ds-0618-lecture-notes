{
 "cells": [
  {
   "cell_type": "code",
   "execution_count": 308,
   "metadata": {},
   "outputs": [],
   "source": [
    "class Day:\n",
    "    def __init__(self, name):\n",
    "        self._name = name\n",
    "        print('hello')\n",
    "    \n",
    "    def set_name(self, name):\n",
    "        self._name = name\n",
    "        \n",
    "    @property    \n",
    "    def name(self):    \n",
    "        return self._name.capitalize()\n",
    "#     name = property(name)\n",
    "    \n",
    "    @name.setter\n",
    "    def name(self, name):\n",
    "        self._name = name\n",
    "\n",
    "    @property \n",
    "    def weather(self):\n",
    "        return self._weather.capitalize()\n",
    "#     weather = property(weather)\n",
    "\n",
    "    @weather.setter\n",
    "    def weather(self, the_weather):\n",
    "        self._weather = the_weather\n",
    "    \n",
    "    @weather.deleter\n",
    "    def weather(self):\n",
    "        \n",
    "        del self._weather\n",
    "#     weather = weather.setter(set_weather)"
   ]
  },
  {
   "cell_type": "code",
   "execution_count": 321,
   "metadata": {},
   "outputs": [
    {
     "name": "stdout",
     "output_type": "stream",
     "text": [
      "hello\n"
     ]
    }
   ],
   "source": [
    "tuesday = Day('foo')\n",
    "\n",
    "del tuesday.weather \n",
    "tuesday.weather"
   ]
  },
  {
   "cell_type": "markdown",
   "metadata": {},
   "source": [
    "### 1. Property "
   ]
  },
  {
   "cell_type": "markdown",
   "metadata": {},
   "source": [
    "All about the property function\n",
    "\n",
    "* Hacks the way I access an instance's attribute\n",
    "* day.weather -> execute the function that is assigned as the getter\n",
    "* day.weather = -> execute the function that is assigned as the setter\n",
    "\n"
   ]
  },
  {
   "cell_type": "markdown",
   "metadata": {},
   "source": [
    "### 2. Decorator\n",
    "\n",
    "\n"
   ]
  },
  {
   "cell_type": "code",
   "execution_count": 318,
   "metadata": {},
   "outputs": [],
   "source": [
    "@foo\n",
    "def say_name():\n",
    "    print('my name')"
   ]
  },
  {
   "cell_type": "code",
   "execution_count": 319,
   "metadata": {},
   "outputs": [],
   "source": [
    "def foo(my_function):\n",
    "    return my_function"
   ]
  },
  {
   "cell_type": "code",
   "execution_count": 317,
   "metadata": {},
   "outputs": [
    {
     "data": {
      "text/plain": [
       "<function __main__.say_name()>"
      ]
     },
     "execution_count": 317,
     "metadata": {},
     "output_type": "execute_result"
    }
   ],
   "source": [
    "say_name = foo(say_name)\n",
    "\n"
   ]
  },
  {
   "cell_type": "code",
   "execution_count": 312,
   "metadata": {},
   "outputs": [],
   "source": [
    "tuesday.name = 'something else'"
   ]
  },
  {
   "cell_type": "code",
   "execution_count": 313,
   "metadata": {},
   "outputs": [
    {
     "data": {
      "text/plain": [
       "'Something else'"
      ]
     },
     "execution_count": 313,
     "metadata": {},
     "output_type": "execute_result"
    }
   ],
   "source": [
    "tuesday.name"
   ]
  },
  {
   "cell_type": "code",
   "execution_count": 296,
   "metadata": {},
   "outputs": [],
   "source": [
    "weather = property()"
   ]
  },
  {
   "cell_type": "code",
   "execution_count": 297,
   "metadata": {},
   "outputs": [
    {
     "data": {
      "text/plain": [
       "<property at 0x10867df48>"
      ]
     },
     "execution_count": 297,
     "metadata": {},
     "output_type": "execute_result"
    }
   ],
   "source": [
    "weather.setter()"
   ]
  },
  {
   "cell_type": "code",
   "execution_count": 218,
   "metadata": {},
   "outputs": [],
   "source": [
    "class Day:        \n",
    "    def get_temperature(self):\n",
    "        print(\"It's hot\")\n",
    "        \n",
    "    def set_temperature(self, value):\n",
    "        print(\"here is the value \" + value)\n",
    "    temperature = property(get_temperature)\n",
    "    temperature = temperature.setter(set_temperature)"
   ]
  },
  {
   "cell_type": "code",
   "execution_count": null,
   "metadata": {},
   "outputs": [],
   "source": []
  }
 ],
 "metadata": {
  "kernelspec": {
   "display_name": "Python 3",
   "language": "python",
   "name": "python3"
  },
  "language_info": {
   "codemirror_mode": {
    "name": "ipython",
    "version": 3
   },
   "file_extension": ".py",
   "mimetype": "text/x-python",
   "name": "python",
   "nbconvert_exporter": "python",
   "pygments_lexer": "ipython3",
   "version": "3.5.5"
  }
 },
 "nbformat": 4,
 "nbformat_minor": 2
}
